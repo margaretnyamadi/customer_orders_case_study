{
 "metadata": {
  "language_info": {
   "codemirror_mode": {
    "name": "ipython",
    "version": 3
   },
   "file_extension": ".py",
   "mimetype": "text/x-python",
   "name": "python",
   "nbconvert_exporter": "python",
   "pygments_lexer": "ipython3",
   "version": "3.8.7-final"
  },
  "orig_nbformat": 2,
  "kernelspec": {
   "name": "python3",
   "display_name": "Python 3.8.7 64-bit",
   "metadata": {
    "interpreter": {
     "hash": "8dabc9d207ae89761b30e88f925854c2d370521290d629cb13921e3e68eccb02"
    }
   }
  }
 },
 "nbformat": 4,
 "nbformat_minor": 2,
 "cells": [
  {
   "cell_type": "code",
   "execution_count": 25,
   "metadata": {},
   "outputs": [],
   "source": [
    "import sqlite3\n",
    "import pandas as pd\n",
    "\n",
    "conn = sqlite3.connect('CaseStudy.db')\n",
    "cursor = conn.cursor()\n",
    "\n",
    "#cursor.execute(''' DROP TABLE CUSTOMER''')\n",
    "\n",
    "cursor.execute('''CREATE TABLE CUSTOMER (customer_email CHAR(255), net_revenue FLOAT, YEAR INTEGER)''')\n",
    "\n",
    "conn.commit()"
   ]
  },
  {
   "cell_type": "code",
   "execution_count": 26,
   "metadata": {},
   "outputs": [],
   "source": [
    "# read csv to dataframe and then to CUSTOMER table in database\n",
    "read_data = pd.read_csv('casestudy.csv', usecols=['customer_email','net_revenue','year'])\n",
    "read_data.to_sql('CUSTOMER', conn, if_exists='append', index = False)\n",
    "conn.commit()"
   ]
  },
  {
   "cell_type": "code",
   "execution_count": 27,
   "metadata": {
    "tags": []
   },
   "outputs": [
    {
     "output_type": "stream",
     "name": "stdout",
     "text": [
      "Total Revenue for 2017: $ [(31417495.03,)]\n"
     ]
    }
   ],
   "source": [
    "# total revenue for current year (2017)\n",
    "cursor.execute('''\n",
    "SELECT round(sum(net_revenue), 2)\n",
    "FROM CUSTOMER\n",
    "WHERE year = 2017\n",
    "''')\n",
    "print(\"Total Revenue for 2017: $\",cursor.fetchall())"
   ]
  },
  {
   "cell_type": "code",
   "execution_count": 28,
   "metadata": {},
   "outputs": [
    {
     "output_type": "stream",
     "name": "stdout",
     "text": [
      "New Customer Revenue 2017: $ [(28676607.64,)]\n"
     ]
    }
   ],
   "source": [
    "# Total new Customer Revenue e.g. new customer revenue from 2017 only\n",
    "cursor.execute('''\n",
    "SELECT round(sum(net_revenue),2)\n",
    "FROM CUSTOMER \n",
    "WHERE year = 2017 AND customer_email NOT IN(\n",
    "    SELECT DISTINCT customer_email\n",
    "    FROM CUSTOMER\n",
    "    WHERE year < 2017\n",
    ")\n",
    "''')\n",
    "print(\"New Customer Revenue 2017: $\", cursor.fetchall())"
   ]
  },
  {
   "cell_type": "code",
   "execution_count": 31,
   "metadata": {},
   "outputs": [
    {
     "output_type": "stream",
     "name": "stdout",
     "text": [
      "Existing Customer Revenue 2017: $ [(2740887.39,)]\n"
     ]
    }
   ],
   "source": [
    "# Revenue of existing customers for current year i.e.customers exisiting prior to 2017 and revenue from 2017\n",
    "cursor.execute('''\n",
    "SELECT round(sum(net_revenue),2)\n",
    "FROM CUSTOMER\n",
    "WHERE year = 2017 AND customer_email IN(\n",
    "    SELECT DISTINCT customer_email\n",
    "    FROM CUSTOMER\n",
    "    WHERE year < 2017\n",
    ")\n",
    "''')\n",
    "print(\"Existing Customer Revenue 2017: $\", cursor.fetchall())"
   ]
  },
  {
   "cell_type": "code",
   "execution_count": 32,
   "metadata": {},
   "outputs": [
    {
     "output_type": "stream",
     "name": "stdout",
     "text": [
      "Total Revenue lost in attrition between 2016 and 2017): $ [(5686551.440000001,)]\n"
     ]
    }
   ],
   "source": [
    "# Revenue lost from attrition e.g. revenue lost between 2016 and 2017\n",
    "cursor.execute('''\n",
    "SELECT (SELECT round(sum(net_revenue),2)\n",
    "FROM CUSTOMER \n",
    "WHERE year = 2017) - (SELECT round(sum(net_revenue),2)\n",
    "FROM CUSTOMER \n",
    "WHERE year = 2016) \n",
    "''')\n",
    "print(\"Total Revenue lost in attrition between 2016 and 2017): $\", cursor.fetchall())"
   ]
  },
  {
   "cell_type": "code",
   "execution_count": 33,
   "metadata": {},
   "outputs": [
    {
     "output_type": "stream",
     "name": "stdout",
     "text": [
      "Revenue for 2017 from exsiting customers: [(31417495.03,)]\n"
     ]
    }
   ],
   "source": [
    "# Existing Customer Revenue Current Year i.e.customer email from 2017 and revenue from 2017\n",
    "cursor.execute('''\n",
    "SELECT round(sum(net_revenue),2)\n",
    "FROM CUSTOMER\n",
    "WHERE year = 2017 AND customer_email IN(\n",
    "    SELECT DISTINCT customer_email\n",
    "    FROM CUSTOMER as C\n",
    "    WHERE year = 2017\n",
    ")\n",
    "''')\n",
    "print(\"Revenue for 2017 from exsiting customers:\", cursor.fetchall())"
   ]
  },
  {
   "cell_type": "code",
   "execution_count": 34,
   "metadata": {},
   "outputs": [
    {
     "output_type": "stream",
     "name": "stdout",
     "text": [
      "Revenue for 2016 from exsiting customers: [(2620648.65,)]\n"
     ]
    }
   ],
   "source": [
    "# Existing Customer Revenue Prior Year i.e. current customer email from 2017 but revenue for 2016\n",
    "cursor.execute('''\n",
    "SELECT round(sum(net_revenue),2)\n",
    "FROM CUSTOMER\n",
    "WHERE year = 2016 AND customer_email IN(\n",
    "    SELECT DISTINCT customer_email\n",
    "    FROM CUSTOMER\n",
    "    WHERE year = 2017\n",
    ")\n",
    "''')\n",
    "print(\"Revenue for 2016 from exsiting customers:\", cursor.fetchall())"
   ]
  },
  {
   "cell_type": "code",
   "execution_count": 35,
   "metadata": {},
   "outputs": [
    {
     "output_type": "stream",
     "name": "stdout",
     "text": [
      "Total Customers in 2017:  [(249987,)]\n"
     ]
    }
   ],
   "source": [
    "# total number of customers in current year i.e. 2017\n",
    "cursor.execute('''\n",
    "SELECT count(DISTINCT customer_email)\n",
    "FROM CUSTOMER\n",
    "WHERE year = 2017\n",
    "''')\n",
    "print(\"Total Customers in 2017: \", cursor.fetchall())"
   ]
  },
  {
   "cell_type": "code",
   "execution_count": 36,
   "metadata": {},
   "outputs": [
    {
     "output_type": "stream",
     "name": "stdout",
     "text": [
      "Total Customers in 2016:  [(204646,)]\n"
     ]
    }
   ],
   "source": [
    "# total number of customers in previous year i.e. 2016\n",
    "cursor.execute('''\n",
    "SELECT count(DISTINCT customer_email)\n",
    "FROM CUSTOMER\n",
    "WHERE year = 2016\n",
    "''')\n",
    "print(\"Total Customers in 2016: \", cursor.fetchall())"
   ]
  },
  {
   "cell_type": "code",
   "execution_count": 37,
   "metadata": {},
   "outputs": [
    {
     "output_type": "stream",
     "name": "stdout",
     "text": [
      "New Customers in 2017 only:  [(228262,)]\n"
     ]
    }
   ],
   "source": [
    "# new total customers in 2017 only\n",
    "cursor.execute('''\n",
    "SELECT count(DISTINCT customer_email)\n",
    "FROM CUSTOMER \n",
    "WHERE year = 2017 and customer_email NOT IN(\n",
    "    SELECT DISTINCT customer_email\n",
    "    FROM CUSTOMER\n",
    "    WHERE year < 2017\n",
    ")\n",
    "''')\n",
    "print(\"New Customers in 2017 only: \", cursor.fetchall())"
   ]
  },
  {
   "cell_type": "code",
   "execution_count": 38,
   "metadata": {
    "tags": []
   },
   "outputs": [
    {
     "output_type": "stream",
     "name": "stdout",
     "text": [
      "Customers lost in 2017:  [(354631,)]\n"
     ]
    }
   ],
   "source": [
    "# lost customers i.e. customers in previous years but not in 2017\n",
    "cursor.execute('''\n",
    "SELECT count(DISTINCT customer_email)\n",
    "FROM CUSTOMER\n",
    "WHERE year < 2017 AND customer_email NOT IN (\n",
    "    SELECT DISTINCT customer_email\n",
    "    FROM CUSTOMER\n",
    "    WHERE year = 2017\n",
    ")\n",
    "''')\n",
    "print(\"Customers lost in 2017: \", cursor.fetchall())\n",
    "conn.close()"
   ]
  }
 ]
}